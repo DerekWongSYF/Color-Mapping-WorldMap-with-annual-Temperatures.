{
 "cells": [
  {
   "cell_type": "code",
   "execution_count": 25,
   "metadata": {},
   "outputs": [],
   "source": [
    "import pygal\n",
    "worldmap_chart = pygal.maps.world.World()\n",
    "worldmap_chart.title = 'Color mapping of temperature scalar field on March 20'\n",
    "worldmap_chart.add('below 0 Degrees', {\n",
    "    'ca': -5.35,'gl': -10,'mn':-0.7,'aq':-20,'ru': -5.1\n",
    "})\n",
    "worldmap_chart.add('Above 0 and below 15', {\n",
    "    'af': 12.6,'al': 11.4,'ad': 7.6,'tj':2,'ua':8.3,'ar': 14.8,'ee': 5.1,'cn': 6.95,'am': 7.15,'az': 11.95,'by': 6.15,'be': 9.55,'bt': 7.4,\n",
    "    'bo': 21.55,'at':6.35,'bg': 10.55,'ch':5.5,'cl':8.45,'cz':7.55,'de':8.55,'dk':7.5,'ee':5.1,'es':13.3,'fi':1.7,'fr':10.7,\n",
    "    'gb':8.45,'ge':5.8,'hr':10.4,'hu':9.75,'ie':9.3,'is':1.75,'it':13.45,'jp':11.15,'kg':1.75,'kr':5.7,'kp':11.5,'kz':6.4,\n",
    "    'li':5.65,'lt':6.2,'lu':8.65,'lv':5.6,'mc':13.55,'md':9.45,'me':10.55,'mk':9.7,'nl':9.25,'no':1.25,'np':8.25,'nz':10.55,\n",
    "    'pl':7.85,'pr':15,'rs':10.55,'ro':8.8,'tr':11.1,'se':2.1,'us':8.55,'si':8.1,'sk':6.7,'uz':12.05,'sm':11.85\n",
    "})\n",
    "worldmap_chart.add('Above 15 and below 25', {\n",
    "    'in': 23.5,'br': 24.95,'vn':24.45,'tw':20,'tz':22.23,'uy':17.55,'ug':22.8,'pt':15.15,'py':23.55,'rw':17.86,'bf': 20,\n",
    "    'co': 24.95,'eg': 22.1,'au': 21.65,'sa':24.85,'bd': 25,'bi':19.8,'bw':21.5,'cd':24.55,'cf':24.9,'cg':24,'ci':20,'cr':24.8,\n",
    "    'cv':23.4,'cy':18.45,'do':24.55,'dz':22.5,'tm':15.1,'tn':19.2,'ec':21.85,'gr':15.4,'gt':23.4,'hk':20,'hn':23.5,'ht':24.9,'id':23,\n",
    "    'il':19.4,'iq':21.4,'ir':17.25,'jm':24.95,'jo':18.3,'ke':24.75,'lb':16.4,'ly':21.8,'ma':17.1,'mg':22.65,'mu':22.35,'mt':19.2,\n",
    "    'mw':21.19,'mx':21,'mz':23.8,'ni':24.9,'pe':19.6,'pk':20.5,'ye':23.85,'zm':24.1,'zw':21,'st':23.75,'sy':17.75\n",
    "})\n",
    "worldmap_chart.add(\"Above 25\", {\n",
    "    'bn': 26.85,'pg':25.5,'tg':27.15,'ph':25.85,'th':26.3,'tl':25.25,'ve':25.35,'sc':27.15,'pa':25.4,'my':25.4,'cm':26.6,\n",
    "    'cu': 25.2,'sn':27.85,'sd':26.9,'sr':25.7,'so':27.05,'ga': 25.1,'gw': 26.75,'bz': 25.3,'bj': 27.55,'ae': 27,'bh': 27.15,\n",
    "    'cm':26.6,'dj':28,'er':25.5,'gh':27,'gm':27.7,'gn':25.7,'gu':26,'gy':26,'kw':25.35,'lk':26.95,'ml':28,'mr':27.65,'mv':27.65,\n",
    "    'ne':27.15,'ng':26.8,'sg':26.45,'sl':26.05\n",
    "})\n",
    "worldmap_chart.render_to_file('map.svg')"
   ]
  },
  {
   "cell_type": "code",
   "execution_count": null,
   "metadata": {},
   "outputs": [],
   "source": []
  },
  {
   "cell_type": "code",
   "execution_count": null,
   "metadata": {},
   "outputs": [],
   "source": []
  },
  {
   "cell_type": "code",
   "execution_count": null,
   "metadata": {},
   "outputs": [],
   "source": []
  }
 ],
 "metadata": {
  "kernelspec": {
   "display_name": "Python 3",
   "language": "python",
   "name": "python3"
  },
  "language_info": {
   "codemirror_mode": {
    "name": "ipython",
    "version": 3
   },
   "file_extension": ".py",
   "mimetype": "text/x-python",
   "name": "python",
   "nbconvert_exporter": "python",
   "pygments_lexer": "ipython3",
   "version": "3.7.3"
  }
 },
 "nbformat": 4,
 "nbformat_minor": 2
}
